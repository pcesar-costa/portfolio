{
 "cells": [
  {
   "cell_type": "markdown",
   "metadata": {},
   "source": [
    "<img src=\"https://docs.google.com/uc?id=1bbeZmwDKLQi476oJdTo5btPwGvfkCe8Q\"/>\n",
    "\n",
    "\n",
    "<br>\n",
    "<center><h1>Solution proposal</h1></center>\n",
    "\n",
    "The purpose of this notebook is to create a functional pipeline (data obtaining, data cleaning e feature engineering, until model training e score)\n",
    "\n",
    "\n",
    "# 1. Solution strategy\n",
    "    -> Project purpose\n",
    "        -- 1. Which houses the CEO should be purchased and at what price to buy?\n",
    "        -- 2. With the house in company possession, what is the best moment to be sold, and for which price?\n",
    "        -- 3. The company should do a restoration to increase the price sale? What are the recommendations? For each \n",
    "        restoration recommendation, how the price increases?\n",
    "\n",
    "    -> Solution proposal\n",
    "        -- 1. Table (House | Purchase price) by EDA\n",
    "            -- Houses that are cheap with high indicators of valuation\n",
    "        -- 2. Table (House | Sale date | Sale price) --> ML Model\n",
    "        -- 3. Table (House | Restoration (0, 1)\n",
    "                    (House | Restoration Features | Sale price correlation)"
   ]
  },
  {
   "cell_type": "code",
   "execution_count": 4,
   "metadata": {},
   "outputs": [],
   "source": [
    "import pandas as pd"
   ]
  },
  {
   "cell_type": "code",
   "execution_count": 6,
   "metadata": {},
   "outputs": [],
   "source": [
    "data = pd.read_csv('./data/kc_house_data.csv')"
   ]
  },
  {
   "cell_type": "markdown",
   "metadata": {},
   "source": [
    "### 1. Which houses the CEO should be purchased and at what price to buy?"
   ]
  },
  {
   "cell_type": "code",
   "execution_count": null,
   "metadata": {},
   "outputs": [],
   "source": []
  },
  {
   "cell_type": "code",
   "execution_count": null,
   "metadata": {},
   "outputs": [],
   "source": []
  },
  {
   "cell_type": "markdown",
   "metadata": {},
   "source": [
    "### 2. With the house in company possession, what is the best moment to be sold, and for which price?"
   ]
  },
  {
   "cell_type": "markdown",
   "metadata": {},
   "source": [
    "### 3. The company should do a restoration to increase the price sale? What are the recommendations? For each restoration recommendation, how the price increases?"
   ]
  },
  {
   "cell_type": "code",
   "execution_count": null,
   "metadata": {},
   "outputs": [],
   "source": []
  }
 ],
 "metadata": {
  "kernelspec": {
   "display_name": "Python 3",
   "language": "python",
   "name": "python3"
  },
  "language_info": {
   "codemirror_mode": {
    "name": "ipython",
    "version": 3
   },
   "file_extension": ".py",
   "mimetype": "text/x-python",
   "name": "python",
   "nbconvert_exporter": "python",
   "pygments_lexer": "ipython3",
   "version": "3.7.6"
  }
 },
 "nbformat": 4,
 "nbformat_minor": 4
}
