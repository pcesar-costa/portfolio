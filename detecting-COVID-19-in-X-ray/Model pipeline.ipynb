{
 "cells": [
  {
   "cell_type": "markdown",
   "metadata": {},
   "source": [
    "<img src=\"https://docs.google.com/uc?id=1_8T8NAlzpyhk_M_hydFntzc3ajFxrGHO\" />\n",
    "<center>\n",
    "    <h1>\n",
    "        Creating a model to detect COVID-19 in X-ray\n",
    "    </h1>\n",
    "</center>\n",
    "\n",
    "This notebook has the proposal to create a model that provides a primary diagnostics for COVID-19 through X-ray images.\n",
    "\n",
    "_the methods and techniques used in this file are only for __educational purpose___\n",
    "\n",
    "# Solution steps\n",
    "\n",
    "    -- C1. Loading and shuffling the data\n",
    "        -- Sample of X-ray images from pacients tested positive for COVID-19\n",
    "        -- Sample of X-ray images from healthy patients (normal)\n",
    "    -- C2. Data wrangling\n",
    "        -- 1. Normalize to datagen\n",
    "        -- 2. Transform target into keras binary\n",
    "        -- 3. Splitting into training and test dataset\n",
    "        -- 4. Data augmentation in the train set\n",
    "    -- C3. Configuring transfer learning with VGG19  \n",
    "    -- C4. Create and training the CNN model\n",
    "    -- C5. Evaluate the model\n",
    "    \n",
    "# Solution proposal\n",
    "    -- A ML classification model that provides COVID-19 diagnosis from chest X-ray images\n",
    "    -- A Streamlit application to make the predictions"
   ]
  },
  {
   "cell_type": "markdown",
   "metadata": {},
   "source": [
    "## 1.0 Imports"
   ]
  },
  {
   "cell_type": "code",
   "execution_count": 81,
   "metadata": {},
   "outputs": [],
   "source": [
    "import os\n",
    "import numpy as np\n",
    "from PIL import Image\n",
    "from collections import Counter\n",
    "\n",
    "from sklearn.utils import shuffle\n",
    "from tensorflow.keras.utils import to_categorical\n",
    "from sklearn.model_selection import train_test_split\n",
    "\n",
    "from tensorflow.keras.preprocessing.image import ImageDataGenerator\n",
    "from tensorflow.keras.applications import VGG19\n",
    "from tensorflow.keras import models\n",
    "from tensorflow.keras import layers\n",
    "from tensorflow.keras.optimizers import Adam\n",
    "from tensorflow.keras.callbacks import ReduceLROnPlateau\n",
    "\n",
    "from sklearn.metrics import classification_report\n",
    "from sklearn.metrics import confusion_matrix"
   ]
  },
  {
   "cell_type": "code",
   "execution_count": 61,
   "metadata": {},
   "outputs": [],
   "source": [
    "# data visualization\n",
    "import seaborn as sns\n",
    "from matplotlib import pyplot as plt\n",
    "\n",
    "# data visualization config\n",
    "from IPython.core.pylabtools import figsize\n",
    "%matplotlib inline\n",
    "sns.set(figsize(18, 8))\n",
    "sns.set(font_scale=1.35)"
   ]
  },
  {
   "cell_type": "markdown",
   "metadata": {},
   "source": [
    "# C1. Loading and shuffling the data"
   ]
  },
  {
   "cell_type": "code",
   "execution_count": 2,
   "metadata": {},
   "outputs": [],
   "source": [
    "def transform_img(file_path):\n",
    "    img = Image.open(file_path)\n",
    "    img = img.convert('RGB').resize((150,150))\n",
    "    return np.asarray(img)"
   ]
  },
  {
   "cell_type": "code",
   "execution_count": 3,
   "metadata": {},
   "outputs": [],
   "source": [
    "directory = {\n",
    "    'normal': './data/normal',\n",
    "    'covid-19': './data/covid-19'\n",
    "}"
   ]
  },
  {
   "cell_type": "code",
   "execution_count": 4,
   "metadata": {},
   "outputs": [],
   "source": [
    "images = []\n",
    "labels = []\n",
    "for label, dir_ in directory.items():\n",
    "    files = os.listdir(dir_)\n",
    "    for file in files:\n",
    "        images.append(transform_img(f'{dir_}/{file}'))\n",
    "        labels.append(label)   "
   ]
  },
  {
   "cell_type": "code",
   "execution_count": 5,
   "metadata": {},
   "outputs": [
    {
     "data": {
      "text/plain": [
       "Counter({'normal': 64, 'covid-19': 64})"
      ]
     },
     "execution_count": 5,
     "metadata": {},
     "output_type": "execute_result"
    }
   ],
   "source": [
    "Counter(labels)"
   ]
  },
  {
   "cell_type": "markdown",
   "metadata": {},
   "source": [
    "# C2. Data wrangling"
   ]
  },
  {
   "cell_type": "markdown",
   "metadata": {},
   "source": [
    "### 1. Normalize to datagen"
   ]
  },
  {
   "cell_type": "code",
   "execution_count": 6,
   "metadata": {},
   "outputs": [],
   "source": [
    "# normalize to datagen\n",
    "images = np.array(images) / 255"
   ]
  },
  {
   "cell_type": "markdown",
   "metadata": {},
   "source": [
    "### 2. Transform target into keras binary"
   ]
  },
  {
   "cell_type": "code",
   "execution_count": 7,
   "metadata": {},
   "outputs": [],
   "source": [
    "target = list(map(lambda x: 0 if x == 'normal' else 1, labels))\n",
    "target = to_categorical(target)"
   ]
  },
  {
   "cell_type": "markdown",
   "metadata": {},
   "source": [
    "### 3. Splitting into training and test dataset"
   ]
  },
  {
   "cell_type": "code",
   "execution_count": 8,
   "metadata": {},
   "outputs": [],
   "source": [
    "# X, y = shuffle(images, target, random_state=2102)\n",
    "X_train, X_test, y_train, y_test = train_test_split(images, target, test_size=0.25, random_state=2102)"
   ]
  },
  {
   "cell_type": "markdown",
   "metadata": {},
   "source": [
    "### 4. Data augmentation in the train set"
   ]
  },
  {
   "cell_type": "code",
   "execution_count": 9,
   "metadata": {},
   "outputs": [],
   "source": [
    "datagen = ImageDataGenerator(rotation_range=20, zoom_range=0.2)\n",
    "datagen.fit(X_train)\n",
    "X_train_aug = datagen.flow(X_train, y_train)"
   ]
  },
  {
   "cell_type": "markdown",
   "metadata": {
    "heading_collapsed": true
   },
   "source": [
    "## C3. Configuring transfer learning with VGG19"
   ]
  },
  {
   "cell_type": "code",
   "execution_count": 10,
   "metadata": {
    "hidden": true
   },
   "outputs": [],
   "source": [
    "input_shape  = (150, 150, 3) # shape image\n",
    "vgg_net = VGG19(weights='imagenet', include_top=False, input_shape=input_shape)"
   ]
  },
  {
   "cell_type": "code",
   "execution_count": 11,
   "metadata": {
    "hidden": true
   },
   "outputs": [],
   "source": [
    "# retraining the bootm layers of VGG19\n",
    "for layer in vgg_net.layers:\n",
    "    if 'block5' in layer.name:\n",
    "        layer.trainable = True\n",
    "    else:\n",
    "        layer.trainable = False"
   ]
  },
  {
   "cell_type": "code",
   "execution_count": 12,
   "metadata": {
    "hidden": true
   },
   "outputs": [
    {
     "name": "stdout",
     "output_type": "stream",
     "text": [
      "Model: \"vgg19\"\n",
      "_________________________________________________________________\n",
      "Layer (type)                 Output Shape              Param #   \n",
      "=================================================================\n",
      "input_1 (InputLayer)         [(None, 150, 150, 3)]     0         \n",
      "_________________________________________________________________\n",
      "block1_conv1 (Conv2D)        (None, 150, 150, 64)      1792      \n",
      "_________________________________________________________________\n",
      "block1_conv2 (Conv2D)        (None, 150, 150, 64)      36928     \n",
      "_________________________________________________________________\n",
      "block1_pool (MaxPooling2D)   (None, 75, 75, 64)        0         \n",
      "_________________________________________________________________\n",
      "block2_conv1 (Conv2D)        (None, 75, 75, 128)       73856     \n",
      "_________________________________________________________________\n",
      "block2_conv2 (Conv2D)        (None, 75, 75, 128)       147584    \n",
      "_________________________________________________________________\n",
      "block2_pool (MaxPooling2D)   (None, 37, 37, 128)       0         \n",
      "_________________________________________________________________\n",
      "block3_conv1 (Conv2D)        (None, 37, 37, 256)       295168    \n",
      "_________________________________________________________________\n",
      "block3_conv2 (Conv2D)        (None, 37, 37, 256)       590080    \n",
      "_________________________________________________________________\n",
      "block3_conv3 (Conv2D)        (None, 37, 37, 256)       590080    \n",
      "_________________________________________________________________\n",
      "block3_conv4 (Conv2D)        (None, 37, 37, 256)       590080    \n",
      "_________________________________________________________________\n",
      "block3_pool (MaxPooling2D)   (None, 18, 18, 256)       0         \n",
      "_________________________________________________________________\n",
      "block4_conv1 (Conv2D)        (None, 18, 18, 512)       1180160   \n",
      "_________________________________________________________________\n",
      "block4_conv2 (Conv2D)        (None, 18, 18, 512)       2359808   \n",
      "_________________________________________________________________\n",
      "block4_conv3 (Conv2D)        (None, 18, 18, 512)       2359808   \n",
      "_________________________________________________________________\n",
      "block4_conv4 (Conv2D)        (None, 18, 18, 512)       2359808   \n",
      "_________________________________________________________________\n",
      "block4_pool (MaxPooling2D)   (None, 9, 9, 512)         0         \n",
      "_________________________________________________________________\n",
      "block5_conv1 (Conv2D)        (None, 9, 9, 512)         2359808   \n",
      "_________________________________________________________________\n",
      "block5_conv2 (Conv2D)        (None, 9, 9, 512)         2359808   \n",
      "_________________________________________________________________\n",
      "block5_conv3 (Conv2D)        (None, 9, 9, 512)         2359808   \n",
      "_________________________________________________________________\n",
      "block5_conv4 (Conv2D)        (None, 9, 9, 512)         2359808   \n",
      "_________________________________________________________________\n",
      "block5_pool (MaxPooling2D)   (None, 4, 4, 512)         0         \n",
      "=================================================================\n",
      "Total params: 20,024,384\n",
      "Trainable params: 9,439,232\n",
      "Non-trainable params: 10,585,152\n",
      "_________________________________________________________________\n"
     ]
    }
   ],
   "source": [
    "vgg_net.summary()"
   ]
  },
  {
   "cell_type": "markdown",
   "metadata": {},
   "source": [
    "# C4. Create and training the CNN model"
   ]
  },
  {
   "cell_type": "markdown",
   "metadata": {},
   "source": [
    "### 1. Creating model layers"
   ]
  },
  {
   "cell_type": "code",
   "execution_count": 13,
   "metadata": {},
   "outputs": [
    {
     "name": "stdout",
     "output_type": "stream",
     "text": [
      "Model: \"sequential\"\n",
      "_________________________________________________________________\n",
      "Layer (type)                 Output Shape              Param #   \n",
      "=================================================================\n",
      "vgg19 (Model)                (None, 4, 4, 512)         20024384  \n",
      "_________________________________________________________________\n",
      "average_pooling2d (AveragePo (None, 2, 2, 512)         0         \n",
      "_________________________________________________________________\n",
      "batch_normalization (BatchNo (None, 2, 2, 512)         2048      \n",
      "_________________________________________________________________\n",
      "flatten (Flatten)            (None, 2048)              0         \n",
      "_________________________________________________________________\n",
      "dense (Dense)                (None, 97)                198753    \n",
      "_________________________________________________________________\n",
      "dropout (Dropout)            (None, 97)                0         \n",
      "_________________________________________________________________\n",
      "dense_1 (Dense)              (None, 2)                 196       \n",
      "=================================================================\n",
      "Total params: 20,225,381\n",
      "Trainable params: 9,639,205\n",
      "Non-trainable params: 10,586,176\n",
      "_________________________________________________________________\n"
     ]
    }
   ],
   "source": [
    "model = models.Sequential()\n",
    "model.add(vgg_net)\n",
    "model.add(layers.AveragePooling2D(pool_size=(2, 2)))\n",
    "model.add(layers.BatchNormalization()) # ADD / apply standardizes for model training\n",
    "model.add(layers.Flatten(name='flatten'))\n",
    "model.add(layers.Dense(97, activation='relu'))\n",
    "model.add(layers.Dropout(0.5)) # reduce overfitting\n",
    "model.add(layers.Dense(2, activation='softmax'))\n",
    "\n",
    "model.summary()"
   ]
  },
  {
   "cell_type": "code",
   "execution_count": 14,
   "metadata": {},
   "outputs": [],
   "source": [
    "#optimizer = Adam(lr=INIT_LR, decay=INIT_LR / EPOCHS)\n",
    "model.compile(loss='binary_crossentropy', optimizer='adam', metrics=['accuracy'])"
   ]
  },
  {
   "cell_type": "markdown",
   "metadata": {},
   "source": [
    "### 2. Callback function"
   ]
  },
  {
   "cell_type": "code",
   "execution_count": 15,
   "metadata": {},
   "outputs": [],
   "source": [
    "lr_plateau = ReduceLROnPlateau(\n",
    "    monitor='val_accuracy', \n",
    "    factor=0.07, \n",
    "    min_delta=1e-4, \n",
    "    patience=7, \n",
    "    verbose=1, \n",
    "    mode='auto'\n",
    ")\n",
    "\n",
    "callbacks = [lr_plateau]"
   ]
  },
  {
   "cell_type": "markdown",
   "metadata": {},
   "source": [
    "### 3. Model training"
   ]
  },
  {
   "cell_type": "code",
   "execution_count": 16,
   "metadata": {
    "scrolled": false
   },
   "outputs": [
    {
     "name": "stdout",
     "output_type": "stream",
     "text": [
      "Epoch 1/100\n",
      "3/3 [==============================] - 8s 3s/step - loss: 0.4625 - accuracy: 0.8021 - val_loss: 1.1608 - val_accuracy: 0.7188 - lr: 0.0010\n",
      "Epoch 2/100\n",
      "3/3 [==============================] - 8s 3s/step - loss: 0.3129 - accuracy: 0.8646 - val_loss: 6.7100 - val_accuracy: 0.5625 - lr: 0.0010\n",
      "Epoch 3/100\n",
      "3/3 [==============================] - 9s 3s/step - loss: 0.3247 - accuracy: 0.8646 - val_loss: 4.8321 - val_accuracy: 0.5938 - lr: 0.0010\n",
      "Epoch 4/100\n",
      "3/3 [==============================] - 9s 3s/step - loss: 0.1092 - accuracy: 0.9479 - val_loss: 6.7100 - val_accuracy: 0.5625 - lr: 0.0010\n",
      "Epoch 5/100\n",
      "3/3 [==============================] - 9s 3s/step - loss: 0.1967 - accuracy: 0.9479 - val_loss: 6.7100 - val_accuracy: 0.5625 - lr: 0.0010\n",
      "Epoch 6/100\n",
      "3/3 [==============================] - 9s 3s/step - loss: 0.0658 - accuracy: 0.9792 - val_loss: 5.6269 - val_accuracy: 0.5938 - lr: 0.0010\n",
      "Epoch 7/100\n",
      "3/3 [==============================] - 9s 3s/step - loss: 0.2361 - accuracy: 0.8854 - val_loss: 6.2755 - val_accuracy: 0.5625 - lr: 0.0010\n",
      "Epoch 8/100\n",
      "3/3 [==============================] - ETA: 0s - loss: 0.0401 - accuracy: 0.9896\n",
      "Epoch 00008: ReduceLROnPlateau reducing learning rate to 7.00000033248216e-05.\n",
      "3/3 [==============================] - 9s 3s/step - loss: 0.0401 - accuracy: 0.9896 - val_loss: 3.2845 - val_accuracy: 0.6562 - lr: 0.0010\n",
      "Epoch 9/100\n",
      "3/3 [==============================] - 9s 3s/step - loss: 0.0883 - accuracy: 0.9792 - val_loss: 2.4711 - val_accuracy: 0.6562 - lr: 7.0000e-05\n",
      "Epoch 10/100\n",
      "3/3 [==============================] - 9s 3s/step - loss: 0.1446 - accuracy: 0.9479 - val_loss: 2.5432 - val_accuracy: 0.6562 - lr: 7.0000e-05\n",
      "Epoch 11/100\n",
      "3/3 [==============================] - 9s 3s/step - loss: 0.0506 - accuracy: 0.9792 - val_loss: 2.8533 - val_accuracy: 0.6562 - lr: 7.0000e-05\n",
      "Epoch 12/100\n",
      "3/3 [==============================] - 9s 3s/step - loss: 0.0724 - accuracy: 0.9583 - val_loss: 2.8743 - val_accuracy: 0.6562 - lr: 7.0000e-05\n",
      "Epoch 13/100\n",
      "3/3 [==============================] - 9s 3s/step - loss: 0.0636 - accuracy: 0.9792 - val_loss: 2.8521 - val_accuracy: 0.6562 - lr: 7.0000e-05\n",
      "Epoch 14/100\n",
      "3/3 [==============================] - 9s 3s/step - loss: 0.0077 - accuracy: 1.0000 - val_loss: 2.7027 - val_accuracy: 0.6562 - lr: 7.0000e-05\n",
      "Epoch 15/100\n",
      "3/3 [==============================] - ETA: 0s - loss: 0.0092 - accuracy: 1.0000\n",
      "Epoch 00015: ReduceLROnPlateau reducing learning rate to 4.900000130874105e-06.\n",
      "3/3 [==============================] - 9s 3s/step - loss: 0.0092 - accuracy: 1.0000 - val_loss: 2.5553 - val_accuracy: 0.6562 - lr: 7.0000e-05\n",
      "Epoch 16/100\n",
      "3/3 [==============================] - 9s 3s/step - loss: 0.0643 - accuracy: 0.9792 - val_loss: 2.3027 - val_accuracy: 0.6562 - lr: 4.9000e-06\n",
      "Epoch 17/100\n",
      "3/3 [==============================] - 9s 3s/step - loss: 0.0359 - accuracy: 0.9792 - val_loss: 2.0123 - val_accuracy: 0.6562 - lr: 4.9000e-06\n",
      "Epoch 18/100\n",
      "3/3 [==============================] - 9s 3s/step - loss: 0.0477 - accuracy: 0.9792 - val_loss: 1.7568 - val_accuracy: 0.6875 - lr: 4.9000e-06\n",
      "Epoch 19/100\n",
      "3/3 [==============================] - 9s 3s/step - loss: 0.0334 - accuracy: 0.9896 - val_loss: 1.5414 - val_accuracy: 0.6875 - lr: 4.9000e-06\n",
      "Epoch 20/100\n",
      "3/3 [==============================] - 9s 3s/step - loss: 0.0401 - accuracy: 0.9792 - val_loss: 1.3294 - val_accuracy: 0.7188 - lr: 4.9000e-06\n",
      "Epoch 21/100\n",
      "3/3 [==============================] - 11s 4s/step - loss: 0.0142 - accuracy: 1.0000 - val_loss: 1.1788 - val_accuracy: 0.7500 - lr: 4.9000e-06\n",
      "Epoch 22/100\n",
      "3/3 [==============================] - 10s 3s/step - loss: 0.0268 - accuracy: 0.9896 - val_loss: 1.0254 - val_accuracy: 0.7812 - lr: 4.9000e-06\n",
      "Epoch 23/100\n",
      "3/3 [==============================] - 10s 3s/step - loss: 0.0418 - accuracy: 0.9792 - val_loss: 0.8885 - val_accuracy: 0.7812 - lr: 4.9000e-06\n",
      "Epoch 24/100\n",
      "3/3 [==============================] - 10s 3s/step - loss: 0.0410 - accuracy: 0.9792 - val_loss: 0.7895 - val_accuracy: 0.7812 - lr: 4.9000e-06\n",
      "Epoch 25/100\n",
      "3/3 [==============================] - 9s 3s/step - loss: 0.0463 - accuracy: 0.9688 - val_loss: 0.7195 - val_accuracy: 0.7812 - lr: 4.9000e-06\n",
      "Epoch 26/100\n",
      "3/3 [==============================] - 9s 3s/step - loss: 0.0759 - accuracy: 0.9792 - val_loss: 0.6657 - val_accuracy: 0.7812 - lr: 4.9000e-06\n",
      "Epoch 27/100\n",
      "3/3 [==============================] - 9s 3s/step - loss: 0.0265 - accuracy: 0.9896 - val_loss: 0.5962 - val_accuracy: 0.8125 - lr: 4.9000e-06\n",
      "Epoch 28/100\n",
      "3/3 [==============================] - 9s 3s/step - loss: 0.0194 - accuracy: 1.0000 - val_loss: 0.5389 - val_accuracy: 0.8750 - lr: 4.9000e-06\n",
      "Epoch 29/100\n",
      "3/3 [==============================] - 9s 3s/step - loss: 0.0285 - accuracy: 0.9896 - val_loss: 0.4806 - val_accuracy: 0.9062 - lr: 4.9000e-06\n",
      "Epoch 30/100\n",
      "3/3 [==============================] - 9s 3s/step - loss: 0.0103 - accuracy: 1.0000 - val_loss: 0.4405 - val_accuracy: 0.9062 - lr: 4.9000e-06\n",
      "Epoch 31/100\n",
      "3/3 [==============================] - 9s 3s/step - loss: 0.0450 - accuracy: 0.9688 - val_loss: 0.4017 - val_accuracy: 0.9375 - lr: 4.9000e-06\n",
      "Epoch 32/100\n",
      "3/3 [==============================] - 9s 3s/step - loss: 0.0564 - accuracy: 0.9896 - val_loss: 0.3724 - val_accuracy: 0.9375 - lr: 4.9000e-06\n",
      "Epoch 33/100\n",
      "3/3 [==============================] - 9s 3s/step - loss: 0.0069 - accuracy: 1.0000 - val_loss: 0.3526 - val_accuracy: 0.9375 - lr: 4.9000e-06\n",
      "Epoch 34/100\n",
      "3/3 [==============================] - 9s 3s/step - loss: 0.0347 - accuracy: 0.9896 - val_loss: 0.3329 - val_accuracy: 0.9375 - lr: 4.9000e-06\n",
      "Epoch 35/100\n",
      "3/3 [==============================] - 9s 3s/step - loss: 0.1178 - accuracy: 0.9792 - val_loss: 0.3217 - val_accuracy: 0.9375 - lr: 4.9000e-06\n",
      "Epoch 36/100\n",
      "3/3 [==============================] - 9s 3s/step - loss: 0.0516 - accuracy: 0.9688 - val_loss: 0.3212 - val_accuracy: 0.9375 - lr: 4.9000e-06\n",
      "Epoch 37/100\n",
      "3/3 [==============================] - 9s 3s/step - loss: 0.0069 - accuracy: 1.0000 - val_loss: 0.3149 - val_accuracy: 0.9375 - lr: 4.9000e-06\n",
      "Epoch 38/100\n",
      "3/3 [==============================] - ETA: 0s - loss: 0.0364 - accuracy: 0.9792\n",
      "Epoch 00038: ReduceLROnPlateau reducing learning rate to 3.430000015214319e-07.\n",
      "3/3 [==============================] - 9s 3s/step - loss: 0.0364 - accuracy: 0.9792 - val_loss: 0.3025 - val_accuracy: 0.9375 - lr: 4.9000e-06\n",
      "Epoch 39/100\n",
      "3/3 [==============================] - 9s 3s/step - loss: 0.0131 - accuracy: 0.9896 - val_loss: 0.2800 - val_accuracy: 0.9375 - lr: 3.4300e-07\n",
      "Epoch 40/100\n",
      "3/3 [==============================] - 9s 3s/step - loss: 0.0841 - accuracy: 0.9792 - val_loss: 0.2594 - val_accuracy: 0.9375 - lr: 3.4300e-07\n",
      "Epoch 41/100\n",
      "3/3 [==============================] - 9s 3s/step - loss: 0.1413 - accuracy: 0.9688 - val_loss: 0.2442 - val_accuracy: 0.9375 - lr: 3.4300e-07\n",
      "Epoch 42/100\n",
      "3/3 [==============================] - 9s 3s/step - loss: 0.0237 - accuracy: 0.9896 - val_loss: 0.2266 - val_accuracy: 0.9375 - lr: 3.4300e-07\n",
      "Epoch 43/100\n",
      "3/3 [==============================] - 9s 3s/step - loss: 0.0701 - accuracy: 0.9688 - val_loss: 0.2123 - val_accuracy: 0.9375 - lr: 3.4300e-07\n",
      "Epoch 44/100\n",
      "3/3 [==============================] - 9s 3s/step - loss: 0.0174 - accuracy: 1.0000 - val_loss: 0.1974 - val_accuracy: 0.9375 - lr: 3.4300e-07\n",
      "Epoch 45/100\n",
      "3/3 [==============================] - ETA: 0s - loss: 0.0752 - accuracy: 0.9896\n",
      "Epoch 00045: ReduceLROnPlateau reducing learning rate to 2.401000074314652e-08.\n",
      "3/3 [==============================] - 9s 3s/step - loss: 0.0752 - accuracy: 0.9896 - val_loss: 0.1862 - val_accuracy: 0.9375 - lr: 3.4300e-07\n",
      "Epoch 46/100\n",
      "3/3 [==============================] - 9s 3s/step - loss: 0.0453 - accuracy: 0.9688 - val_loss: 0.1744 - val_accuracy: 0.9375 - lr: 2.4010e-08\n",
      "Epoch 47/100\n",
      "3/3 [==============================] - 9s 3s/step - loss: 0.0720 - accuracy: 0.9688 - val_loss: 0.1631 - val_accuracy: 0.9375 - lr: 2.4010e-08\n",
      "Epoch 48/100\n",
      "3/3 [==============================] - 9s 3s/step - loss: 0.0178 - accuracy: 0.9896 - val_loss: 0.1543 - val_accuracy: 0.9375 - lr: 2.4010e-08\n",
      "Epoch 49/100\n",
      "3/3 [==============================] - 9s 3s/step - loss: 0.0399 - accuracy: 0.9896 - val_loss: 0.1447 - val_accuracy: 0.9375 - lr: 2.4010e-08\n"
     ]
    },
    {
     "name": "stdout",
     "output_type": "stream",
     "text": [
      "Epoch 50/100\n",
      "3/3 [==============================] - 9s 3s/step - loss: 0.0549 - accuracy: 0.9896 - val_loss: 0.1369 - val_accuracy: 0.9375 - lr: 2.4010e-08\n",
      "Epoch 51/100\n",
      "3/3 [==============================] - 9s 3s/step - loss: 0.0134 - accuracy: 1.0000 - val_loss: 0.1290 - val_accuracy: 0.9375 - lr: 2.4010e-08\n",
      "Epoch 52/100\n",
      "3/3 [==============================] - ETA: 0s - loss: 0.0179 - accuracy: 1.0000  \n",
      "Epoch 00052: ReduceLROnPlateau reducing learning rate to 1.6807000768892524e-09.\n",
      "3/3 [==============================] - 9s 3s/step - loss: 0.0179 - accuracy: 1.0000 - val_loss: 0.1216 - val_accuracy: 0.9375 - lr: 2.4010e-08\n",
      "Epoch 53/100\n",
      "3/3 [==============================] - 9s 3s/step - loss: 0.1185 - accuracy: 0.9583 - val_loss: 0.1136 - val_accuracy: 0.9688 - lr: 1.6807e-09\n",
      "Epoch 54/100\n",
      "3/3 [==============================] - 9s 3s/step - loss: 0.1757 - accuracy: 0.9583 - val_loss: 0.1086 - val_accuracy: 0.9688 - lr: 1.6807e-09\n",
      "Epoch 55/100\n",
      "3/3 [==============================] - 9s 3s/step - loss: 0.0404 - accuracy: 0.9896 - val_loss: 0.1027 - val_accuracy: 0.9688 - lr: 1.6807e-09\n",
      "Epoch 56/100\n",
      "3/3 [==============================] - 9s 3s/step - loss: 0.0339 - accuracy: 0.9792 - val_loss: 0.0970 - val_accuracy: 0.9688 - lr: 1.6807e-09\n",
      "Epoch 57/100\n",
      "3/3 [==============================] - 9s 3s/step - loss: 0.0095 - accuracy: 1.0000 - val_loss: 0.0918 - val_accuracy: 0.9688 - lr: 1.6807e-09\n",
      "Epoch 58/100\n",
      "3/3 [==============================] - 9s 3s/step - loss: 0.0464 - accuracy: 0.9792 - val_loss: 0.0871 - val_accuracy: 0.9688 - lr: 1.6807e-09\n",
      "Epoch 59/100\n",
      "3/3 [==============================] - 9s 3s/step - loss: 0.0121 - accuracy: 1.0000 - val_loss: 0.0825 - val_accuracy: 0.9688 - lr: 1.6807e-09\n",
      "Epoch 60/100\n",
      "3/3 [==============================] - ETA: 0s - loss: 0.0796 - accuracy: 0.9583\n",
      "Epoch 00060: ReduceLROnPlateau reducing learning rate to 1.176490016518983e-10.\n",
      "3/3 [==============================] - 9s 3s/step - loss: 0.0796 - accuracy: 0.9583 - val_loss: 0.0792 - val_accuracy: 0.9688 - lr: 1.6807e-09\n",
      "Epoch 61/100\n",
      "3/3 [==============================] - 9s 3s/step - loss: 0.0170 - accuracy: 0.9896 - val_loss: 0.0753 - val_accuracy: 0.9688 - lr: 1.1765e-10\n",
      "Epoch 62/100\n",
      "3/3 [==============================] - 9s 3s/step - loss: 0.0255 - accuracy: 0.9896 - val_loss: 0.0721 - val_accuracy: 0.9688 - lr: 1.1765e-10\n",
      "Epoch 63/100\n",
      "3/3 [==============================] - 9s 3s/step - loss: 0.0951 - accuracy: 0.9583 - val_loss: 0.0691 - val_accuracy: 0.9688 - lr: 1.1765e-10\n",
      "Epoch 64/100\n",
      "3/3 [==============================] - 9s 3s/step - loss: 0.1093 - accuracy: 0.9479 - val_loss: 0.0661 - val_accuracy: 0.9688 - lr: 1.1765e-10\n",
      "Epoch 65/100\n",
      "3/3 [==============================] - 9s 3s/step - loss: 0.0667 - accuracy: 0.9688 - val_loss: 0.0634 - val_accuracy: 0.9688 - lr: 1.1765e-10\n",
      "Epoch 66/100\n",
      "3/3 [==============================] - 9s 3s/step - loss: 0.0730 - accuracy: 0.9688 - val_loss: 0.0611 - val_accuracy: 0.9688 - lr: 1.1765e-10\n",
      "Epoch 67/100\n",
      "3/3 [==============================] - ETA: 0s - loss: 0.0434 - accuracy: 0.9896\n",
      "Epoch 00067: ReduceLROnPlateau reducing learning rate to 8.23543011563288e-12.\n",
      "3/3 [==============================] - 9s 3s/step - loss: 0.0434 - accuracy: 0.9896 - val_loss: 0.0588 - val_accuracy: 0.9688 - lr: 1.1765e-10\n",
      "Epoch 68/100\n",
      "3/3 [==============================] - 9s 3s/step - loss: 0.0448 - accuracy: 0.9688 - val_loss: 0.0567 - val_accuracy: 0.9688 - lr: 8.2354e-12\n",
      "Epoch 69/100\n",
      "3/3 [==============================] - 9s 3s/step - loss: 0.0165 - accuracy: 0.9896 - val_loss: 0.0544 - val_accuracy: 0.9688 - lr: 8.2354e-12\n",
      "Epoch 70/100\n",
      "3/3 [==============================] - 9s 3s/step - loss: 0.0166 - accuracy: 0.9896 - val_loss: 0.0525 - val_accuracy: 0.9688 - lr: 8.2354e-12\n",
      "Epoch 71/100\n",
      "3/3 [==============================] - 9s 3s/step - loss: 0.0651 - accuracy: 0.9792 - val_loss: 0.0503 - val_accuracy: 0.9688 - lr: 8.2354e-12\n",
      "Epoch 72/100\n",
      "3/3 [==============================] - 9s 3s/step - loss: 0.0657 - accuracy: 0.9792 - val_loss: 0.0486 - val_accuracy: 0.9688 - lr: 8.2354e-12\n",
      "Epoch 73/100\n",
      "3/3 [==============================] - 9s 3s/step - loss: 0.0124 - accuracy: 1.0000 - val_loss: 0.0472 - val_accuracy: 0.9688 - lr: 8.2354e-12\n",
      "Epoch 74/100\n",
      "3/3 [==============================] - ETA: 0s - loss: 0.0182 - accuracy: 0.9896\n",
      "Epoch 00074: ReduceLROnPlateau reducing learning rate to 5.764800789509472e-13.\n",
      "3/3 [==============================] - 10s 3s/step - loss: 0.0182 - accuracy: 0.9896 - val_loss: 0.0454 - val_accuracy: 0.9688 - lr: 8.2354e-12\n",
      "Epoch 75/100\n",
      "3/3 [==============================] - 10s 3s/step - loss: 0.0562 - accuracy: 0.9688 - val_loss: 0.0436 - val_accuracy: 0.9688 - lr: 5.7648e-13\n",
      "Epoch 76/100\n",
      "3/3 [==============================] - 9s 3s/step - loss: 0.0390 - accuracy: 0.9896 - val_loss: 0.0424 - val_accuracy: 0.9688 - lr: 5.7648e-13\n",
      "Epoch 77/100\n",
      "3/3 [==============================] - 9s 3s/step - loss: 0.0299 - accuracy: 0.9896 - val_loss: 0.0410 - val_accuracy: 0.9688 - lr: 5.7648e-13\n",
      "Epoch 78/100\n",
      "3/3 [==============================] - 9s 3s/step - loss: 0.0662 - accuracy: 0.9688 - val_loss: 0.0394 - val_accuracy: 0.9688 - lr: 5.7648e-13\n",
      "Epoch 79/100\n",
      "3/3 [==============================] - 9s 3s/step - loss: 0.0387 - accuracy: 0.9688 - val_loss: 0.0380 - val_accuracy: 0.9688 - lr: 5.7648e-13\n",
      "Epoch 80/100\n",
      "3/3 [==============================] - 9s 3s/step - loss: 0.0501 - accuracy: 0.9792 - val_loss: 0.0366 - val_accuracy: 0.9688 - lr: 5.7648e-13\n",
      "Epoch 81/100\n",
      "3/3 [==============================] - ETA: 0s - loss: 0.0733 - accuracy: 0.9688\n",
      "Epoch 00081: ReduceLROnPlateau reducing learning rate to 4.035360370510666e-14.\n",
      "3/3 [==============================] - 9s 3s/step - loss: 0.0733 - accuracy: 0.9688 - val_loss: 0.0354 - val_accuracy: 0.9688 - lr: 5.7648e-13\n",
      "Epoch 82/100\n",
      "3/3 [==============================] - 9s 3s/step - loss: 0.0527 - accuracy: 0.9792 - val_loss: 0.0343 - val_accuracy: 0.9688 - lr: 4.0354e-14\n",
      "Epoch 83/100\n",
      "3/3 [==============================] - 9s 3s/step - loss: 0.0578 - accuracy: 0.9896 - val_loss: 0.0330 - val_accuracy: 0.9688 - lr: 4.0354e-14\n",
      "Epoch 84/100\n",
      "3/3 [==============================] - 9s 3s/step - loss: 0.0200 - accuracy: 1.0000 - val_loss: 0.0320 - val_accuracy: 0.9688 - lr: 4.0354e-14\n",
      "Epoch 85/100\n",
      "3/3 [==============================] - 9s 3s/step - loss: 0.0298 - accuracy: 0.9792 - val_loss: 0.0309 - val_accuracy: 0.9688 - lr: 4.0354e-14\n",
      "Epoch 86/100\n",
      "3/3 [==============================] - 9s 3s/step - loss: 0.0098 - accuracy: 1.0000 - val_loss: 0.0301 - val_accuracy: 0.9688 - lr: 4.0354e-14\n",
      "Epoch 87/100\n",
      "3/3 [==============================] - 9s 3s/step - loss: 0.0399 - accuracy: 0.9896 - val_loss: 0.0292 - val_accuracy: 0.9688 - lr: 4.0354e-14\n",
      "Epoch 88/100\n",
      "3/3 [==============================] - ETA: 0s - loss: 0.0172 - accuracy: 0.9896\n",
      "Epoch 00088: ReduceLROnPlateau reducing learning rate to 2.8247523542251563e-15.\n",
      "3/3 [==============================] - 9s 3s/step - loss: 0.0172 - accuracy: 0.9896 - val_loss: 0.0286 - val_accuracy: 0.9688 - lr: 4.0354e-14\n",
      "Epoch 89/100\n",
      "3/3 [==============================] - 9s 3s/step - loss: 0.0392 - accuracy: 0.9896 - val_loss: 0.0278 - val_accuracy: 0.9688 - lr: 2.8248e-15\n",
      "Epoch 90/100\n",
      "3/3 [==============================] - 9s 3s/step - loss: 0.0400 - accuracy: 0.9792 - val_loss: 0.0270 - val_accuracy: 0.9688 - lr: 2.8248e-15\n",
      "Epoch 91/100\n",
      "3/3 [==============================] - 9s 3s/step - loss: 0.0288 - accuracy: 0.9896 - val_loss: 0.0260 - val_accuracy: 0.9688 - lr: 2.8248e-15\n",
      "Epoch 92/100\n",
      "3/3 [==============================] - 9s 3s/step - loss: 0.0308 - accuracy: 0.9792 - val_loss: 0.0252 - val_accuracy: 0.9688 - lr: 2.8248e-15\n",
      "Epoch 93/100\n",
      "3/3 [==============================] - 9s 3s/step - loss: 0.0815 - accuracy: 0.9792 - val_loss: 0.0245 - val_accuracy: 1.0000 - lr: 2.8248e-15\n",
      "Epoch 94/100\n",
      "3/3 [==============================] - 9s 3s/step - loss: 0.0476 - accuracy: 0.9792 - val_loss: 0.0238 - val_accuracy: 1.0000 - lr: 2.8248e-15\n",
      "Epoch 95/100\n",
      "3/3 [==============================] - 9s 3s/step - loss: 0.0098 - accuracy: 1.0000 - val_loss: 0.0232 - val_accuracy: 1.0000 - lr: 2.8248e-15\n",
      "Epoch 96/100\n"
     ]
    },
    {
     "name": "stdout",
     "output_type": "stream",
     "text": [
      "3/3 [==============================] - 9s 3s/step - loss: 0.0817 - accuracy: 0.9792 - val_loss: 0.0228 - val_accuracy: 1.0000 - lr: 2.8248e-15\n",
      "Epoch 97/100\n",
      "3/3 [==============================] - 9s 3s/step - loss: 0.0728 - accuracy: 0.9688 - val_loss: 0.0223 - val_accuracy: 1.0000 - lr: 2.8248e-15\n",
      "Epoch 98/100\n",
      "3/3 [==============================] - 9s 3s/step - loss: 0.0313 - accuracy: 0.9896 - val_loss: 0.0219 - val_accuracy: 1.0000 - lr: 2.8248e-15\n",
      "Epoch 99/100\n",
      "3/3 [==============================] - 9s 3s/step - loss: 0.0102 - accuracy: 1.0000 - val_loss: 0.0212 - val_accuracy: 1.0000 - lr: 2.8248e-15\n",
      "Epoch 100/100\n",
      "3/3 [==============================] - ETA: 0s - loss: 0.0589 - accuracy: 0.9792\n",
      "Epoch 00100: ReduceLROnPlateau reducing learning rate to 1.977326671674532e-16.\n",
      "3/3 [==============================] - 9s 3s/step - loss: 0.0589 - accuracy: 0.9792 - val_loss: 0.0209 - val_accuracy: 1.0000 - lr: 2.8248e-15\n"
     ]
    }
   ],
   "source": [
    "epochs = 100\n",
    "batch_size = 27\n",
    "\n",
    "H = model.fit(X_train_aug,\n",
    "                steps_per_epoch = int(len(X_train)/batch_size),\n",
    "                validation_data = (X_test, y_test),\n",
    "                validation_steps = int(len(X_test)/batch_size),\n",
    "                callbacks = callbacks,\n",
    "                epochs=epochs)"
   ]
  },
  {
   "cell_type": "markdown",
   "metadata": {},
   "source": [
    "# C5. Evaluate the model"
   ]
  },
  {
   "cell_type": "markdown",
   "metadata": {},
   "source": [
    "### 1. Model metrics"
   ]
  },
  {
   "cell_type": "code",
   "execution_count": 83,
   "metadata": {},
   "outputs": [
    {
     "name": "stdout",
     "output_type": "stream",
     "text": [
      "              precision    recall  f1-score   support\n",
      "\n",
      "           0       1.00      1.00      1.00        18\n",
      "           1       1.00      1.00      1.00        14\n",
      "\n",
      "    accuracy                           1.00        32\n",
      "   macro avg       1.00      1.00      1.00        32\n",
      "weighted avg       1.00      1.00      1.00        32\n",
      "\n"
     ]
    }
   ],
   "source": [
    "y_pred = model.predict(X_test, batch_size=batch_size)\n",
    "y_pred = np.argmax(y_pred, axis=1)\n",
    "\n",
    "y_true = y_test.argmax(axis=1)\n",
    "\n",
    "print(classification_report(y_true, y_pred, target_names=['0', '1']))"
   ]
  },
  {
   "cell_type": "code",
   "execution_count": 77,
   "metadata": {},
   "outputs": [
    {
     "data": {
      "image/png": "[encoded data removed]",
      "text/plain": [
       "<Figure size 1296x576 with 1 Axes>"
      ]
     },
     "metadata": {},
     "output_type": "display_data"
    }
   ],
   "source": [
    "N = epochs\n",
    "plt.plot(np.arange(0, N), H.history[\"loss\"], label=\"train_loss\")\n",
    "plt.plot(np.arange(0, N), H.history[\"val_loss\"], label=\"val_loss\")\n",
    "plt.title(\"Model Loss\")\n",
    "plt.xlabel(\"Epoch #\")\n",
    "plt.ylabel(\"Loss\")\n",
    "plt.legend(loc=\"upper right\");"
   ]
  },
  {
   "cell_type": "code",
   "execution_count": 80,
   "metadata": {},
   "outputs": [
    {
     "data": {
      "image/png": "[encoded data removed]",
      "text/plain": [
       "<Figure size 1296x576 with 1 Axes>"
      ]
     },
     "metadata": {},
     "output_type": "display_data"
    }
   ],
   "source": [
    "plt.plot(np.arange(0, N), H.history[\"accuracy\"], label=\"train_acc\")\n",
    "plt.plot(np.arange(0, N), H.history[\"val_accuracy\"], label=\"val_acc\")\n",
    "plt.title(\"Model Accuracy\")\n",
    "plt.xlabel(\"Epoch #\")\n",
    "plt.ylabel(\"Loss\")\n",
    "plt.legend(loc=\"lower right\");"
   ]
  },
  {
   "cell_type": "markdown",
   "metadata": {},
   "source": [
    "### 2. Confusion matrix"
   ]
  },
  {
   "cell_type": "code",
   "execution_count": 128,
   "metadata": {},
   "outputs": [
    {
     "data": {
      "image/png": "[encoded data removed]",
      "text/plain": [
       "<Figure size 720x504 with 1 Axes>"
      ]
     },
     "metadata": {},
     "output_type": "display_data"
    }
   ],
   "source": [
    "cm = confusion_matrix(y_true, y_pred)\n",
    "plt.figure(figsize = (10,7))\n",
    "sns.heatmap(cm, cmap=\"Blues\", annot=True, annot_kws={\"size\": 16}, cbar=False);"
   ]
  },
  {
   "cell_type": "markdown",
   "metadata": {},
   "source": [
    "# Exports model"
   ]
  },
  {
   "cell_type": "code",
   "execution_count": 140,
   "metadata": {},
   "outputs": [],
   "source": [
    "from tensorflow import keras\n",
    "model.save('./ml-models/model-covid-100-exp.h5')"
   ]
  },
  {
   "cell_type": "code",
   "execution_count": null,
   "metadata": {},
   "outputs": [],
   "source": []
  }
 ],
 "metadata": {
  "kernelspec": {
   "display_name": "Python 3",
   "language": "python",
   "name": "python3"
  },
  "language_info": {
   "codemirror_mode": {
    "name": "ipython",
    "version": 3
   },
   "file_extension": ".py",
   "mimetype": "text/x-python",
   "name": "python",
   "nbconvert_exporter": "python",
   "pygments_lexer": "ipython3",
   "version": "3.7.6"
  }
 },
 "nbformat": 4,
 "nbformat_minor": 4
}
